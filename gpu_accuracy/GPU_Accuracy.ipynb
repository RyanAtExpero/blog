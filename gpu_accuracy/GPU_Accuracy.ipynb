{
 "cells": [
  {
   "cell_type": "markdown",
   "metadata": {},
   "source": [
    "# A Quick Note on GPU Accuracy and Double Precision\n",
    "\n",
    "Often when optimizing simulation software, we run into a classic roadblock:  *Floating point precision is not accurate enough, we must use double precision.*\n",
    "\n",
    "Of course, there are many instances in real physical problems where indeed, a solution requires double precision computation.  However, we should be careful not to fall into a trap - the performance benefits of using 32bit vs 64bit datatypes is **significant**\n",
    "\n",
    "Particularly on gpus, where memory and bandwidth charge a higher premium, 32bit operations are much more desireable (see also Machine Learning's recent push to use 16 bit operations).\n",
    "\n",
    "But we do have one fascinating edge on our side when using GPU calculations: they are often more accurate than CPU calculations.\n",
    "\n",
    "No, I don't mean to say that the GPU somehow has a more accurate FPU.  Instead, due to the massively number of GPU threads and correspondingly small units of work, GPU threads more often deal with numbers of comparable sizes and are thus more accurate.\n",
    "\n",
    "## Example 1: Sum of a double precision array.\n",
    "\n",
    "Take as a simple example reducing the sum of an array.  A classic CPU loop will look something like:\n",
    "\n",
    "    sum = 0\n",
    "    for element in array:\n",
    "      sum += element\n",
    "    return sum\n",
    "\n",
    "As the sum gets larger, so also does the error.\n",
    "\n",
    "For a GPU, we will often use a tree based approach:\n",
    "<img src=\"assets/tree.png\" width=\"300\">\n",
    "\n",
    "Due to the tree like nature, the elements sent to the FPU tend to have equivalent sizes and the sum operation therefore has less error.\n",
    "\n",
    "Lets look at a simple examply using *numpy* and *pycuda*   \n"
   ]
  },
  {
   "cell_type": "code",
   "execution_count": 1,
   "metadata": {},
   "outputs": [],
   "source": [
    "import numpy as np\n",
    "import pycuda.autoinit\n",
    "import pycuda.driver as cuda\n",
    "import pycuda.gpuarray as gpuarray\n",
    "from matplotlib import pyplot as plt\n"
   ]
  },
  {
   "cell_type": "code",
   "execution_count": 2,
   "metadata": {},
   "outputs": [
    {
     "name": "stdout",
     "output_type": "stream",
     "text": [
      "True sum: 4999471.5791\n",
      "CPU 32bit precision: 4.99947e+06 error: 0.579096186906\n",
      "GPU 32bit precision: 4999471.5 error: 0.0790961869061\n"
     ]
    },
    {
     "data": {
      "image/png": "[encoded data removed]",
      "text/plain": [
       "<matplotlib.figure.Figure at 0x145f698af28>"
      ]
     },
     "metadata": {},
     "output_type": "display_data"
    }
   ],
   "source": [
    "N = 10000000\n",
    "\n",
    "#source double precision array\n",
    "d = np.random.rand(N) \n",
    "\n",
    "#floating point CPU copy\n",
    "f = d.astype(np.float32)\n",
    "\n",
    "#floating point GPU copy\n",
    "g = gpuarray.to_gpu(f)\n",
    "\n",
    "#sums\n",
    "dsum = d.sum()\n",
    "fsum = f.sum()\n",
    "gsum = gpuarray.sum(g).get()\n",
    "\n",
    "#distance from double\n",
    "ferr = np.abs(dsum-fsum)\n",
    "gerr = np.abs(dsum-gsum)\n",
    "\n",
    "print(\"True sum:\", dsum)\n",
    "print(\"CPU 32bit precision:\", fsum, \"error:\", ferr)\n",
    "print(\"GPU 32bit precision:\", gsum, \"error:\", gerr)\n",
    "\n",
    "plt.bar(['cpu error','gpu error'], [ferr, gerr], color='bg')\n",
    "plt.show()"
   ]
  },
  {
   "cell_type": "markdown",
   "metadata": {},
   "source": [
    "## Example 2: Dot product\n",
    "\n",
    "For the same reason as we saw in the sum, computing a dot product on a GPU tends to be more accurate in 32bit than on a CPU."
   ]
  },
  {
   "cell_type": "code",
   "execution_count": 3,
   "metadata": {},
   "outputs": [
    {
     "name": "stdout",
     "output_type": "stream",
     "text": [
      "True dot product: 3332515.05789\n",
      "CPU 32bit precision: 3.33231e+06 error: 200.557887515\n",
      "GPU 32bit precision: 3332515.0 error: 0.0578875150532\n"
     ]
    },
    {
     "data": {
      "image/png": "[encoded data removed]",
      "text/plain": [
       "<matplotlib.figure.Figure at 0x145fdc26a20>"
      ]
     },
     "metadata": {},
     "output_type": "display_data"
    }
   ],
   "source": [
    "#dot product with ourselves\n",
    "pd = np.dot(d,d)\n",
    "pf = np.dot(f,f)\n",
    "pg = gpuarray.dot(g,g).get()\n",
    "\n",
    "#distance from double\n",
    "ferr = np.abs(pd-pf)\n",
    "gerr = np.abs(pd-pg)\n",
    "\n",
    "print(\"True dot product:\", pd)\n",
    "print(\"CPU 32bit precision:\", pf, \"error:\", ferr)\n",
    "print(\"GPU 32bit precision:\", pg, \"error:\", gerr)\n",
    "\n",
    "plt.bar(['cpu error','gpu error'], [ferr, gerr], color='bg')\n",
    "plt.show()"
   ]
  },
  {
   "cell_type": "markdown",
   "metadata": {},
   "source": [
    "## Conclusion\n",
    "\n",
    "And there you have it.  The GPU 32bit solution is quite a bit closer to the true double precision sum than CPU 32bit sum.\n",
    "\n",
    "Here we have a simple example with a reduction and a dot product, but in reality there are many more examples where we can relax our double precision requirement."
   ]
  }
 ],
 "metadata": {
  "kernelspec": {
   "display_name": "Python 3",
   "language": "python",
   "name": "python3"
  },
  "language_info": {
   "codemirror_mode": {
    "name": "ipython",
    "version": 3
   },
   "file_extension": ".py",
   "mimetype": "text/x-python",
   "name": "python",
   "nbconvert_exporter": "python",
   "pygments_lexer": "ipython3",
   "version": "3.6.3"
  }
 },
 "nbformat": 4,
 "nbformat_minor": 2
}
